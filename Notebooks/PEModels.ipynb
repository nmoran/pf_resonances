{
 "cells": [
  {
   "cell_type": "markdown",
   "metadata": {},
   "source": [
    "We look at Peschel-Emery line for spin half and greater models. The Hamiltonians is \n",
    "\n",
    "$$ H = \\sum_{j} H_{j,j+1} $$\n"
   ]
  },
  {
   "cell_type": "markdown",
   "metadata": {},
   "source": [
    "with \n",
    "\n",
    "$$ H^{PE}_{j,j+1}(l) = -\\sigma^x_{j}\\sigma^x_{j+1} \n",
    "+ \\frac{h(l)}{2}(\\sigma_j^z + \\sigma_{j+1}^z) \n",
    "+ U(l)\\sigma^z_{h}\\sigma^z_{j+1}\n",
    "+ (U(l) + 1)$$"
   ]
  },
  {
   "cell_type": "markdown",
   "metadata": {},
   "source": [
    "where\n",
    "$$ U(l) = \\frac{1}{2}\\left[ \\cosh(l)-1\\right] $$\n",
    "and\n",
    "$$ h(l) = \\sinh(l)$$"
   ]
  },
  {
   "cell_type": "markdown",
   "metadata": {},
   "source": [
    "For open boundary conditions this can be modelled using an MPO like"
   ]
  },
  {
   "cell_type": "markdown",
   "metadata": {},
   "source": [
    "$$H_i(L) = \\left(\n",
    "\\begin{array}{ccc}\n",
    "I_i & \\sigma_i^x & \\sigma_i^z & \\frac{c(i)}{2}\\left(h(l)\\sigma^z_i + U(l) + 1\\right)\\\\\n",
    "0   &     0      &     0      & -\\sigma_i^x\\\\\n",
    "0   &     0      &     0      & U(l)\\sigma_i^z \\\\\n",
    "0   &     0      &     0      &  I\n",
    "\\end{array}\n",
    "\\right)$$"
   ]
  },
  {
   "cell_type": "markdown",
   "metadata": {},
   "source": [
    "Where $c(i) = 2 \\forall i s.t. 1 < i < N$ otherwise $c(i) = 1$"
   ]
  },
  {
   "cell_type": "markdown",
   "metadata": {},
   "source": [
    "MPO construction "
   ]
  },
  {
   "cell_type": "markdown",
   "metadata": {},
   "source": [
    "$$ \n",
    "\\left( \n",
    "  \\begin{array}{ccc} \n",
    "    I & \\sigma^x & I \\\\\n",
    "    0 & 0 & \\sigma^x \\\\\n",
    "    0 & 0 & I\n",
    "  \\end{array}\n",
    "\\right)\n",
    "\\left( \n",
    "  \\begin{array}{ccc} \n",
    "    I & \\sigma^x & I \\\\\n",
    "    0 & 0 & \\sigma^x \\\\\n",
    "    0 & 0 & I\n",
    "  \\end{array}\n",
    "\\right)\n",
    "=\n",
    "\\left( \n",
    "  \\begin{array}{ccc} \n",
    "    I \\otimes I & I \\otimes \\sigma^x & I \\otimes I + \\sigma^x \\otimes \\sigma^x + I \\otimes I \\\\\n",
    "    0 & 0 & \\sigma^x \\otimes I\\\\\n",
    "    0 & 0 & I \\otimes I\n",
    "  \\end{array}\n",
    "\\right)\n",
    "$$"
   ]
  },
  {
   "cell_type": "markdown",
   "metadata": {},
   "source": [
    "$$ \n",
    "\\left( \n",
    "  \\begin{array}{ccc} \n",
    "    I & \\sigma^x & I \\\\\n",
    "    0 & 0 & \\sigma^x \\\\\n",
    "    0 & 0 & I\n",
    "  \\end{array}\n",
    "\\right)\n",
    "\\left( \n",
    "  \\begin{array}{ccc} \n",
    "    I & \\sigma^x & I \\\\\n",
    "    0 & 0 & \\sigma^x \\\\\n",
    "    0 & 0 & I\n",
    "  \\end{array}\n",
    "\\right)\n",
    "\\left( \n",
    "  \\begin{array}{ccc} \n",
    "    I & \\sigma^x & I \\\\\n",
    "    0 & 0 & \\sigma^x \\\\\n",
    "    0 & 0 & I\n",
    "  \\end{array}\n",
    "\\right)\n",
    "=\n",
    "\\left( \n",
    "  \\begin{array}{ccc} \n",
    "    I \\otimes I \\otimes I & I \\otimes I \\otimes \\sigma^x & I \\otimes I \\otimes I + I \\otimes \\sigma^x \\otimes \\sigma^x + I \\otimes I \\oteims I + \n",
    "    + I \\otimes \\sigma^x \\otimes \\sigma^x \\\\\n",
    "    0 & \\sigma^x \\otimes \\sigma^x \\otimes \\sigma^x\n",
    "  \\end{array}\n",
    "\\right)\n",
    "$$"
   ]
  },
  {
   "cell_type": "code",
   "execution_count": 27,
   "metadata": {},
   "outputs": [
    {
     "data": {
      "text/plain": [
       "Matrix([[I_0*I_1*(U + h*sz_2/2 + 1) + I_0*U*sz_1*sz_2 + I_0*sx_1*sx_2 + I_2*(I_0*(U + h*sz_1/2 + 1) + I_1*(U + h*sz_0/2 + 1) + U*sz_0*sz_1 + sx_0*sx_1)]])"
      ]
     },
     "execution_count": 27,
     "metadata": {},
     "output_type": "execute_result"
    }
   ],
   "source": [
    "import sympy as sy\n",
    "\n",
    "N = 3\n",
    "\n",
    "U = sy.Symbol('U')\n",
    "h = sy.Symbol('h')\n",
    "sxs = [sy.Symbol('sx_' + str(x)) for x in range(N)]\n",
    "szs = [sy.Symbol('sz_' + str(x)) for x in range(N)]\n",
    "Is = [sy.Symbol('I_' + str(x)) for x in range(N)]\n",
    "\n",
    "L = sy.Matrix([[1, 0, 0, 0]])\n",
    "R = sy.Matrix([[0], [0], [0], [1]])\n",
    "\n",
    "mats = [sy.Matrix([[Is[x], sxs[x], szs[x], szs[x] * h/2 + U + 1], [0, 0, 0, sxs[x]], [0, 0, 0, U*szs[x]], [0, 0, 0, Is[x]]]) for x in range(N)]\n",
    "\n",
    "A = mats[0]\n",
    "for i in range(1,len(mats)):\n",
    "    A = A * mats[i]\n",
    "    \n",
    "L*A*R"
   ]
  },
  {
   "cell_type": "code",
   "execution_count": 15,
   "metadata": {},
   "outputs": [
    {
     "name": "stdout",
     "output_type": "stream",
     "text": [
      "(1, 2)\n",
      "(3, 3)\n",
      "(2, 1)\n"
     ]
    },
    {
     "ename": "ShapeError",
     "evalue": "Dimensions incorrect for dot product.",
     "output_type": "error",
     "traceback": [
      "\u001b[0;31m---------------------------------------------------------------------------\u001b[0m",
      "\u001b[0;31mShapeError\u001b[0m                                Traceback (most recent call last)",
      "\u001b[0;32m<ipython-input-15-2fb192c530f4>\u001b[0m in \u001b[0;36m<module>\u001b[0;34m()\u001b[0m\n\u001b[1;32m      3\u001b[0m \u001b[0mprint\u001b[0m\u001b[0;34m(\u001b[0m\u001b[0mmats\u001b[0m\u001b[0;34m[\u001b[0m\u001b[0;36m0\u001b[0m\u001b[0;34m]\u001b[0m\u001b[0;34m.\u001b[0m\u001b[0mshape\u001b[0m\u001b[0;34m)\u001b[0m\u001b[0;34m\u001b[0m\u001b[0m\n\u001b[1;32m      4\u001b[0m \u001b[0mprint\u001b[0m\u001b[0;34m(\u001b[0m\u001b[0mR\u001b[0m\u001b[0;34m.\u001b[0m\u001b[0mshape\u001b[0m\u001b[0;34m)\u001b[0m\u001b[0;34m\u001b[0m\u001b[0m\n\u001b[0;32m----> 5\u001b[0;31m \u001b[0mR\u001b[0m\u001b[0;34m.\u001b[0m\u001b[0mdot\u001b[0m\u001b[0;34m(\u001b[0m\u001b[0mmats\u001b[0m\u001b[0;34m[\u001b[0m\u001b[0;36m0\u001b[0m\u001b[0;34m]\u001b[0m\u001b[0;34m)\u001b[0m\u001b[0;34m\u001b[0m\u001b[0m\n\u001b[0m",
      "\u001b[0;32m/usr/local/lib/python3.5/dist-packages/sympy/matrices/matrices.py\u001b[0m in \u001b[0;36mdot\u001b[0;34m(self, b)\u001b[0m\n\u001b[1;32m   1755\u001b[0m             \u001b[0;32mreturn\u001b[0m \u001b[0mmat\u001b[0m\u001b[0;34m.\u001b[0m\u001b[0mT\u001b[0m\u001b[0;34m.\u001b[0m\u001b[0mdot\u001b[0m\u001b[0;34m(\u001b[0m\u001b[0mb\u001b[0m\u001b[0;34m)\u001b[0m\u001b[0;34m\u001b[0m\u001b[0m\n\u001b[1;32m   1756\u001b[0m         \u001b[0;32melse\u001b[0m\u001b[0;34m:\u001b[0m\u001b[0;34m\u001b[0m\u001b[0m\n\u001b[0;32m-> 1757\u001b[0;31m             \u001b[0;32mraise\u001b[0m \u001b[0mShapeError\u001b[0m\u001b[0;34m(\u001b[0m\u001b[0;34m\"Dimensions incorrect for dot product.\"\u001b[0m\u001b[0;34m)\u001b[0m\u001b[0;34m\u001b[0m\u001b[0m\n\u001b[0m\u001b[1;32m   1758\u001b[0m \u001b[0;34m\u001b[0m\u001b[0m\n\u001b[1;32m   1759\u001b[0m     \u001b[0;32mdef\u001b[0m \u001b[0mmultiply_elementwise\u001b[0m\u001b[0;34m(\u001b[0m\u001b[0mself\u001b[0m\u001b[0;34m,\u001b[0m \u001b[0mb\u001b[0m\u001b[0;34m)\u001b[0m\u001b[0;34m:\u001b[0m\u001b[0;34m\u001b[0m\u001b[0m\n",
      "\u001b[0;31mShapeError\u001b[0m: Dimensions incorrect for dot product."
     ]
    }
   ],
   "source": [
    "import numpy as np\n",
    "print(L.shape)\n",
    "print(mats[0].shape)\n",
    "print(R.shape)\n",
    "R.dot(mats[0])"
   ]
  },
  {
   "cell_type": "markdown",
   "metadata": {},
   "source": [
    "## Create new class to implement model"
   ]
  },
  {
   "cell_type": "code",
   "execution_count": 5,
   "metadata": {},
   "outputs": [
    {
     "name": "stdout",
     "output_type": "stream",
     "text": [
      "Using matplotlib backend: TkAgg\n"
     ]
    }
   ],
   "source": [
    "from parafermions.MPO import MPO\n",
    "import parafermions.ParafermionUtilsCython as pfcy\n",
    "import time\n",
    "import numpy as np\n",
    "import matplotlib.pyplot as plt\n",
    "%matplotlib"
   ]
  },
  {
   "cell_type": "code",
   "execution_count": 2,
   "metadata": {},
   "outputs": [],
   "source": [
    "class PeschelEmerySpinHalf(MPO):\n",
    "    \"\"\"\n",
    "    Class which contains method for treating Peschel Emery line of parameters\n",
    "    \"\"\"\n",
    "\n",
    "    def __init__(self, L, l, dtype=np.dtype('complex128')):\n",
    "        \"\"\"\n",
    "        Constructor of spin half Peschel Emergy chain operator class with the given parameters.\n",
    "\n",
    "        Parameters\n",
    "        -----------        \n",
    "        L: int\n",
    "            Length of chain.\n",
    "        l: float\n",
    "            The sinlge parameter of the Peschel Emery spin half line\n",
    "        dtype: dtype\n",
    "            Datatype to use internally, default=np.dtype('complex128').\n",
    "        \"\"\"\n",
    "        self.L = L   # otherwise full hamiltonian        \n",
    "        self.l = l\n",
    "        self.N = 2\n",
    "        \n",
    "        # setting dimension and datatype\n",
    "        self.dim = self.N**self.L\n",
    "        self.dtype = dtype\n",
    "        self.chi = 4\n",
    "        \n",
    "        self.sigmax = np.zeros((2, 2), dtype=self.dtype)\n",
    "        self.sigmax[0, 1] = 1; self.sigmax[1, 0] = 1\n",
    "        \n",
    "        self.sigmaz = np.zeros((2, 2), dtype=self.dtype)\n",
    "        self.sigmaz[0, 0] = 1; self.sigmaz[1, 1] = -1\n",
    "        \n",
    "        self.I = np.eye(2, dtype=self.dtype)\n",
    "        self.Ul = (np.cosh(self.l) - 1)/2.0\n",
    "        self.hl = np.sinh(l)\n",
    "        \n",
    "        c_i = lambda x: 2 if x > 0 and x < self.L-1 else 1 \n",
    "\n",
    "        Ws = dict() # create a dictionary to store tensors\n",
    "        for i in range(self.L):\n",
    "            W = np.zeros((self.chi,self.chi,self.N,self.N), dtype=self.dtype)                        \n",
    "            W[0,0:4] = [self.I, self.sigmax, self.sigmaz, c_i(i)/2*(self.hl*self.sigmaz + self.I *(self.Ul + 1))]\n",
    "            W[1,-1] = -self.sigmax\n",
    "            W[2,-1] = self.Ul * self.sigmaz\n",
    "            W[-1,-1] = self.I\n",
    "            Ws[i] = W\n",
    "        \n",
    "        self.shape = (self.N**self.L, self.N**self.L) # for mat vec routine\n",
    "        self.Lp = np.zeros(self.chi, dtype=dtype); self.Lp[0] = 1.0\n",
    "        self.Rp = np.zeros(self.chi, dtype=dtype); self.Rp[-1] = 1.0\n",
    "        self.Ws = Ws"
   ]
  },
  {
   "cell_type": "code",
   "execution_count": 3,
   "metadata": {},
   "outputs": [],
   "source": [
    "class ParitySpinHalf(MPO):\n",
    "    \"\"\"\n",
    "    Parity operator for spin half chains\n",
    "    \"\"\"\n",
    "\n",
    "    def __init__(self, L, dtype=np.dtype('complex128')):\n",
    "        \"\"\"\n",
    "        Parity operator for spin half chains\n",
    "\n",
    "        Parameters\n",
    "        -----------        \n",
    "        L: int\n",
    "            Length of chain.        \n",
    "        dtype: dtype\n",
    "            Datatype to use internally, default=np.dtype('complex128').\n",
    "        \"\"\"\n",
    "        self.L = L   # otherwise full hamiltonian        \n",
    "        self.N = 2\n",
    "        \n",
    "        # setting dimension and datatype\n",
    "        self.dim = self.N**self.L\n",
    "        self.dtype = dtype\n",
    "        self.chi = 1\n",
    "        \n",
    "        self.sigmaz = np.zeros((2, 2), dtype=self.dtype)\n",
    "        self.sigmaz[0, 0] = 1; self.sigmaz[1, 1] = -1\n",
    "        \n",
    "        self.I = np.eye(2, dtype=self.dtype)\n",
    "                \n",
    "        Ws = dict() # create a dictionary to store tensors\n",
    "        for i in range(self.L):\n",
    "            W = np.zeros((self.chi,self.chi,self.N,self.N), dtype=self.dtype)                        \n",
    "            W[0,0] = self.sigmaz            \n",
    "            Ws[i] = W\n",
    "        \n",
    "        self.shape = (self.N**self.L, self.N**self.L) # for mat vec routine\n",
    "        self.Lp = np.zeros(self.chi, dtype=dtype); self.Lp[0] = 1.0\n",
    "        self.Rp = np.zeros(self.chi, dtype=dtype); self.Rp[-1] = 1.0\n",
    "        self.Ws = Ws"
   ]
  },
  {
   "cell_type": "code",
   "execution_count": 7,
   "metadata": {},
   "outputs": [
    {
     "name": "stdout",
     "output_type": "stream",
     "text": [
      "[-3.07240959e-15  8.88227654e-15  5.66916941e-01  5.70340557e-01\n",
      "  1.00265238e+00  1.01103737e+00  1.60112845e+00  1.63295299e+00\n",
      "  1.63440385e+00  1.67056747e+00]\n",
      "Energy expectations: [3.311217547499627e-16, 3.0047503852193155e-16]\n",
      "Parity expectations: [0.9999954661329883, -0.9999954661329884]\n"
     ]
    },
    {
     "data": {
      "image/png": "[encoded data removed]",
      "text/plain": [
       "<Figure size 432x288 with 1 Axes>"
      ]
     },
     "metadata": {},
     "output_type": "display_data"
    },
    {
     "data": {
      "image/png": "[encoded data removed]",
      "text/plain": [
       "<Figure size 1080x360 with 1 Axes>"
      ]
     },
     "metadata": {},
     "output_type": "display_data"
    }
   ],
   "source": [
    "import parafermions as pf\n",
    "import numpy as np\n",
    "\n",
    "N = 8\n",
    "l = 1.2\n",
    "pe = PeschelEmerySpinHalf(N, l, dtype=np.dtype('float64'))\n",
    "d, v = pe.Diagonalise(k=100)\n",
    "print(d[:10])\n",
    "P = ParitySpinHalf(N, dtype=np.dtype('float64'))\n",
    "\n",
    "w = pf.diagonalise(v[:,:2], P)\n",
    "w.shape\n",
    "\n",
    "print('Energy expectations: ' + str([pe.expectation(w[:, x]) for x in range(w.shape[1])]))\n",
    "print('Parity expectations: ' + str([P.expectation(w[:, x]) for x in range(w.shape[1])]))\n",
    "\n",
    "plt.plot(w)\n",
    "\n",
    "def str_conf(idx, N):\n",
    "    x = np.base_repr(idx)    \n",
    "    return '0'*(N-len(x)) + x\n",
    "\n",
    "def up_count(idx):\n",
    "    return len([x for x in np.base_repr(idx) if x == '1'])\n",
    "\n",
    "import seaborn as sns\n",
    "colors = sns.color_palette(n_colors=N+1)\n",
    "\n",
    "\n",
    "plt.figure(figsize=(15,5))\n",
    "i = 0\n",
    "sorted_tuples = sorted([[up_count(x), w[x, i]] for x in range(w.shape[0])], key=lambda x: x[0])\n",
    "for j, t in enumerate(sorted_tuples):\n",
    "    plt.plot(j, t[1], '^', color=colors[t[0]], fillstyle='none')\n",
    "    \n",
    "i = 1\n",
    "sorted_tuples = sorted([[up_count(x), w[x, i]] for x in range(w.shape[0])], key=lambda x: x[0])\n",
    "for j, t in enumerate(sorted_tuples):\n",
    "    plt.plot(j, t[1], 'o', color=colors[t[0]], fillstyle='none')"
   ]
  },
  {
   "cell_type": "code",
   "execution_count": 185,
   "metadata": {},
   "outputs": [
    {
     "data": {
      "text/plain": [
       "0.951229424500714"
      ]
     },
     "execution_count": 185,
     "metadata": {},
     "output_type": "execute_result"
    }
   ],
   "source": [
    "np.exp(-0.05)"
   ]
  },
  {
   "cell_type": "code",
   "execution_count": 121,
   "metadata": {},
   "outputs": [
    {
     "data": {
      "text/plain": [
       "<function seaborn.palettes.color_palette(palette=None, n_colors=None, desat=None)>"
      ]
     },
     "execution_count": 121,
     "metadata": {},
     "output_type": "execute_result"
    }
   ],
   "source": [
    "import seaborn as sns\n",
    "sns.color_palette"
   ]
  },
  {
   "cell_type": "code",
   "execution_count": 122,
   "metadata": {},
   "outputs": [
    {
     "data": {
      "text/plain": [
       "2"
      ]
     },
     "execution_count": 122,
     "metadata": {},
     "output_type": "execute_result"
    }
   ],
   "source": [
    "foo = '110'\n",
    "\n",
    "len([x for x in foo if x == '1'])"
   ]
  },
  {
   "cell_type": "code",
   "execution_count": 95,
   "metadata": {},
   "outputs": [
    {
     "data": {
      "text/plain": [
       "[['00000', 0.2199361714928983],\n",
       " ['00001', 1.2490009027033009e-16],\n",
       " ['00010', 1.9428902930940235e-16],\n",
       " ['00011', 0.24306706056684935],\n",
       " ['00100', 2.6367796834847463e-16],\n",
       " ['00101', 0.24306706056684937],\n",
       " ['00110', 0.24306706056684912],\n",
       " ['00111', -5.5511151231257815e-17],\n",
       " ['01000', -4.1633363423443364e-17],\n",
       " ['01001', 0.2430670605668493],\n",
       " ['01010', 0.24306706056684924],\n",
       " ['01011', 1.52655665885959e-16],\n",
       " ['01100', 0.24306706056684926],\n",
       " ['01101', -2.4980018054066017e-16],\n",
       " ['01110', 9.714451465470117e-17],\n",
       " ['01111', 0.2686306464806142],\n",
       " ['10000', -1.52655665885959e-16],\n",
       " ['10001', 0.2430670605668493],\n",
       " ['10010', 0.2430670605668491],\n",
       " ['10011', -1.3877787807814454e-16],\n",
       " ['10100', 0.24306706056684918],\n",
       " ['10101', -9.714451465470117e-17],\n",
       " ['10110', 5.5511151231257815e-17],\n",
       " ['10111', 0.2686306464806137],\n",
       " ['11000', 0.2430670605668493],\n",
       " ['11001', 0.0],\n",
       " ['11010', 2.9143354396410354e-16],\n",
       " ['11011', 0.2686306464806139],\n",
       " ['11100', 1.3877787807814454e-16],\n",
       " ['11101', 0.26863064648061374],\n",
       " ['11110', 0.26863064648061363],\n",
       " ['11111', -1.3877787807814454e-16]]"
      ]
     },
     "execution_count": 95,
     "metadata": {},
     "output_type": "execute_result"
    }
   ],
   "source": [
    "i = 1\n",
    "[[str_conf(x, N), w[x, i]] for x in range(w.shape[0])]"
   ]
  },
  {
   "cell_type": "markdown",
   "metadata": {},
   "source": [
    "# Attempt the three state potts typed model"
   ]
  },
  {
   "cell_type": "code",
   "execution_count": 289,
   "metadata": {},
   "outputs": [],
   "source": [
    "class PeschelEmery3StateClock(MPO):\n",
    "    \"\"\"\n",
    "    Class which contains method for treating Peschel Emery line of parameters\n",
    "    \"\"\"\n",
    "\n",
    "    def __init__(self, L, r, dtype=np.dtype('complex128')):\n",
    "        \"\"\"\n",
    "        Constructor of spin half Peschel Emergy chain operator class with the given parameters.\n",
    "\n",
    "        Parameters\n",
    "        -----------        \n",
    "        L: int\n",
    "            Length of chain.\n",
    "        r: float\n",
    "            The sinlge parameter of the Peschel Emery spin half line\n",
    "        dtype: dtype\n",
    "            Datatype to use internally, default=np.dtype('complex128').\n",
    "        \"\"\"\n",
    "        self.L = L   # otherwise full hamiltonian        \n",
    "        self.r = r\n",
    "        self.N = 3\n",
    "        \n",
    "        # setting dimension and datatype\n",
    "        self.dim = self.N**self.L\n",
    "        self.dtype = dtype\n",
    "        self.chi = 8\n",
    "        self.omega = np.exp(2j*np.pi/3)\n",
    "        \n",
    "        self.sigmax = np.zeros((3, 3), dtype=self.dtype)\n",
    "        self.sigmax[0, 1] = 1; self.sigmax[1, 2] = 1; self.sigmax[2, 0] = 1\n",
    "        \n",
    "        self.sigmaz = np.diag([self.omega**x for x in range(3)])\n",
    "        \n",
    "        self.I = np.eye(3, dtype=self.dtype)\n",
    "        self.fr = (1+2*r)*(1-r**3)/(9*r**2)\n",
    "        self.g1r = -2*(1-r)**2*(1+r+r**2)/(9*r**2)\n",
    "        self.g2r = (1-r)**2*(1-2*r-2*r**2)/(9*r**2)\n",
    "        self.er = 2*(1+r+r**2)**2/(9*r**2)\n",
    "        \n",
    "        c = lambda x: 2 if x > 0 and x < self.L-1 else 1 \n",
    "\n",
    "        Ws = dict() # create a dictionary to store tensors\n",
    "        for i in range(self.L):\n",
    "    \n",
    "            W = np.zeros((self.chi,self.chi,self.N,self.N), dtype=self.dtype)                        \n",
    "            W[0,0:3] = [self.I, self.sigmax.conj().T, self.sigmax]\n",
    "            W[0,3:5] = [self.sigmaz, self.sigmaz.conj().T]\n",
    "            W[0,5:7] = [self.sigmaz, self.sigmaz.conj().T]\n",
    "            W[0,7] = c(i)*(-self.fr*(self.sigmaz + self.sigmaz.conj().T) + self.er*self.I/2)\n",
    "            W[1,-1] = -self.sigmax; W[2,-1] = -self.sigmax.conj().T\n",
    "            W[3, -1] = -self.g1r*self.sigmaz\n",
    "            W[4, -1] = -self.g1r*self.sigmaz.conj().T\n",
    "            W[5, -1] = -self.g2r*self.sigmaz.conj().T\n",
    "            W[6, -1] = -self.g2r*self.sigmaz            \n",
    "            W[-1,-1] = self.I\n",
    "            Ws[i] = W\n",
    "        \n",
    "        self.shape = (self.N**self.L, self.N**self.L) # for mat vec routine\n",
    "        self.Lp = np.zeros(self.chi, dtype=dtype); self.Lp[0] = 1.0\n",
    "        self.Rp = np.zeros(self.chi, dtype=dtype); self.Rp[-1] = 1.0\n",
    "        self.Ws = Ws"
   ]
  },
  {
   "cell_type": "code",
   "execution_count": 322,
   "metadata": {},
   "outputs": [
    {
     "data": {
      "text/plain": [
       "[7.281880779580773e-16,\n",
       " 1.83009671239813e-15,\n",
       " 3.1153857165994994e-15,\n",
       " 3.0000000000000013,\n",
       " 3.0000000000000093,\n",
       " 3.000000000000011,\n",
       " 3.0000000000000115,\n",
       " 3.000000000000019,\n",
       " 3.00000000000002,\n",
       " 3.000000000000024,\n",
       " 3.0000000000000298,\n",
       " 3.000000000000035,\n",
       " 3.000000000000039,\n",
       " 3.000000000000046,\n",
       " 3.0000000000000484,\n",
       " 3.0000000000000533,\n",
       " 3.0000000000000915,\n",
       " 6.0000000000000275,\n",
       " 6.000000000000067,\n",
       " 6.000000000000072]"
      ]
     },
     "execution_count": 322,
     "metadata": {},
     "output_type": "execute_result"
    }
   ],
   "source": [
    "pe3 = PeschelEmery3StateClock(8, 1)\n",
    "p, v = pe3.Diagonalise(k=20)\n",
    "[np.abs(x) for x in p]"
   ]
  },
  {
   "cell_type": "code",
   "execution_count": 323,
   "metadata": {},
   "outputs": [],
   "source": [
    "P = pf.QOp(3, 8)\n",
    "w = pf.diagonalise(v[:, :3], P)"
   ]
  },
  {
   "cell_type": "code",
   "execution_count": 324,
   "metadata": {},
   "outputs": [
    {
     "data": {
      "text/plain": [
       "[(-0.4999999999999961+0.8660254037844257j),\n",
       " (0.9999999999999041+0j),\n",
       " (-0.5000000000000282-0.8660254037844881j)]"
      ]
     },
     "execution_count": 324,
     "metadata": {},
     "output_type": "execute_result"
    }
   ],
   "source": [
    "[P.expectation(w[:, i].conj()) for i in range(w.shape[1])]"
   ]
  },
  {
   "cell_type": "code",
   "execution_count": 325,
   "metadata": {},
   "outputs": [
    {
     "data": {
      "text/plain": [
       "[<matplotlib.lines.Line2D at 0x7f7f71a67dd8>,\n",
       " <matplotlib.lines.Line2D at 0x7f7f71a67f28>,\n",
       " <matplotlib.lines.Line2D at 0x7f7f71a6b0b8>]"
      ]
     },
     "execution_count": 325,
     "metadata": {},
     "output_type": "execute_result"
    },
    {
     "data": {
      "image/png": "[encoded data removed]",
      "text/plain": [
       "<Figure size 432x288 with 1 Axes>"
      ]
     },
     "metadata": {},
     "output_type": "display_data"
    }
   ],
   "source": [
    "plt.plot(np.abs(w))"
   ]
  },
  {
   "cell_type": "code",
   "execution_count": 328,
   "metadata": {},
   "outputs": [
    {
     "data": {
      "text/plain": [
       "(1.0000000000000044+0j)"
      ]
     },
     "execution_count": 328,
     "metadata": {},
     "output_type": "execute_result"
    }
   ],
   "source": [
    "np.dot(w[:,0].conj(), w[:,0])"
   ]
  },
  {
   "cell_type": "code",
   "execution_count": null,
   "metadata": {},
   "outputs": [],
   "source": []
  }
 ],
 "metadata": {
  "kernelspec": {
   "display_name": "Python 3 (pf)",
   "language": "python",
   "name": "python3pf"
  },
  "language_info": {
   "codemirror_mode": {
    "name": "ipython",
    "version": 3
   },
   "file_extension": ".py",
   "mimetype": "text/x-python",
   "name": "python",
   "nbconvert_exporter": "python",
   "pygments_lexer": "ipython3",
   "version": "3.5.2"
  }
 },
 "nbformat": 4,
 "nbformat_minor": 2
}
