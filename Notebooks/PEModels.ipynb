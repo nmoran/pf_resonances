{
 "cells": [
  {
   "cell_type": "markdown",
   "metadata": {},
   "source": [
    "We look at Peschel-Emery line for spin half and greater models. The Hamiltonians is \n",
    "\n",
    "$$ H = \\sum_{j} H_{j,j+1} $$\n"
   ]
  },
  {
   "cell_type": "markdown",
   "metadata": {},
   "source": [
    "with \n",
    "\n",
    "$$ H^{PE}_{j,j+1}(l) = -\\sigma^x_{j}\\sigma^x_{j+1} \n",
    "+ \\frac{h(l)}{2}(\\sigma_j^z + \\sigma_{j+1}^z) \n",
    "+ U(l)\\sigma^z_{h}\\sigma^z_{j+1}\n",
    "+ (U(l) + 1)$$"
   ]
  },
  {
   "cell_type": "markdown",
   "metadata": {},
   "source": [
    "where\n",
    "$$ U(l) = \\frac{1}{2}\\left[ \\cosh(l)-1\\right] $$\n",
    "and\n",
    "$$ h(l) = \\sinh(l)$$"
   ]
  },
  {
   "cell_type": "code",
   "execution_count": 24,
   "metadata": {},
   "outputs": [
    {
     "name": "stdout",
     "output_type": "stream",
     "text": [
      "(0.002502084027901752, 0.10016675001984403)\n"
     ]
    },
    {
     "data": {
      "image/png": "[encoded data removed]",
      "text/plain": [
       "<Figure size 432x288 with 1 Axes>"
      ]
     },
     "metadata": {},
     "output_type": "display_data"
    },
    {
     "data": {
      "image/png": "[encoded data removed]",
      "text/plain": [
       "<Figure size 432x288 with 1 Axes>"
      ]
     },
     "metadata": {},
     "output_type": "display_data"
    }
   ],
   "source": [
    "U = lambda x: 0.5*np.cosh(x) - 0.5\n",
    "h = lambda x: np.sinh(x)\n",
    "\n",
    "x = np.linspace(-0.1, 0.1, 100)\n",
    "plt.plot(x, np.vectorize(U)(x), label='U(l)')\n",
    "plt.plot(x, np.vectorize(h)(x), label='h(l)')\n",
    "plt.legend()\n",
    "# plt.yscale('log')\n",
    "\n",
    "plt.figure()\n",
    "x = np.linspace(-10, 10, 100)\n",
    "plt.plot(x, np.vectorize(U)(x)/np.vectorize(h)(x), label='U(l)/h(l)')\n",
    "plt.legend()\n",
    "print((U(0.1), h(0.1)))"
   ]
  },
  {
   "cell_type": "markdown",
   "metadata": {},
   "source": [
    "For open boundary conditions this can be modelled using an MPO like"
   ]
  },
  {
   "cell_type": "markdown",
   "metadata": {},
   "source": [
    "$$H_i(L) = \\left(\n",
    "\\begin{array}{ccc}\n",
    "I_i & \\sigma_i^x & \\sigma_i^z & \\frac{c(i)}{2}\\left(h(l)\\sigma^z_i + U(l) + 1\\right)\\\\\n",
    "0   &     0      &     0      & -\\sigma_i^x\\\\\n",
    "0   &     0      &     0      & U(l)\\sigma_i^z \\\\\n",
    "0   &     0      &     0      &  I\n",
    "\\end{array}\n",
    "\\right)$$"
   ]
  },
  {
   "cell_type": "markdown",
   "metadata": {},
   "source": [
    "Where $c(i) = 2 \\forall i s.t. 1 < i < N$ otherwise $c(i) = 1$"
   ]
  },
  {
   "cell_type": "markdown",
   "metadata": {},
   "source": [
    "MPO construction "
   ]
  },
  {
   "cell_type": "markdown",
   "metadata": {},
   "source": [
    "$$ \n",
    "\\left( \n",
    "  \\begin{array}{ccc} \n",
    "    I & \\sigma^x & I \\\\\n",
    "    0 & 0 & \\sigma^x \\\\\n",
    "    0 & 0 & I\n",
    "  \\end{array}\n",
    "\\right)\n",
    "\\left( \n",
    "  \\begin{array}{ccc} \n",
    "    I & \\sigma^x & I \\\\\n",
    "    0 & 0 & \\sigma^x \\\\\n",
    "    0 & 0 & I\n",
    "  \\end{array}\n",
    "\\right)\n",
    "=\n",
    "\\left( \n",
    "  \\begin{array}{ccc} \n",
    "    I \\otimes I & I \\otimes \\sigma^x & I \\otimes I + \\sigma^x \\otimes \\sigma^x + I \\otimes I \\\\\n",
    "    0 & 0 & \\sigma^x \\otimes I\\\\\n",
    "    0 & 0 & I \\otimes I\n",
    "  \\end{array}\n",
    "\\right)\n",
    "$$"
   ]
  },
  {
   "cell_type": "markdown",
   "metadata": {},
   "source": [
    "$$ \n",
    "\\left( \n",
    "  \\begin{array}{ccc} \n",
    "    I & \\sigma^x & I \\\\\n",
    "    0 & 0 & \\sigma^x \\\\\n",
    "    0 & 0 & I\n",
    "  \\end{array}\n",
    "\\right)\n",
    "\\left( \n",
    "  \\begin{array}{ccc} \n",
    "    I & \\sigma^x & I \\\\\n",
    "    0 & 0 & \\sigma^x \\\\\n",
    "    0 & 0 & I\n",
    "  \\end{array}\n",
    "\\right)\n",
    "\\left( \n",
    "  \\begin{array}{ccc} \n",
    "    I & \\sigma^x & I \\\\\n",
    "    0 & 0 & \\sigma^x \\\\\n",
    "    0 & 0 & I\n",
    "  \\end{array}\n",
    "\\right)\n",
    "=\n",
    "\\left( \n",
    "  \\begin{array}{ccc} \n",
    "    I \\otimes I \\otimes I & I \\otimes I \\otimes \\sigma^x & I \\otimes I \\otimes I + I \\otimes \\sigma^x \\otimes \\sigma^x + I \\otimes I \\oteims I + \n",
    "    + I \\otimes \\sigma^x \\otimes \\sigma^x \\\\\n",
    "    0 & \\sigma^x \\otimes \\sigma^x \\otimes \\sigma^x\n",
    "  \\end{array}\n",
    "\\right)\n",
    "$$"
   ]
  },
  {
   "cell_type": "code",
   "execution_count": 1,
   "metadata": {},
   "outputs": [
    {
     "ename": "ModuleNotFoundError",
     "evalue": "No module named 'sympy'",
     "output_type": "error",
     "traceback": [
      "\u001b[0;31m---------------------------------------------------------------------------\u001b[0m",
      "\u001b[0;31mModuleNotFoundError\u001b[0m                       Traceback (most recent call last)",
      "\u001b[0;32m<ipython-input-1-2088d8a4f8f1>\u001b[0m in \u001b[0;36m<module>\u001b[0;34m()\u001b[0m\n\u001b[0;32m----> 1\u001b[0;31m \u001b[0;32mimport\u001b[0m \u001b[0msympy\u001b[0m \u001b[0;32mas\u001b[0m \u001b[0msy\u001b[0m\u001b[0;34m\u001b[0m\u001b[0m\n\u001b[0m\u001b[1;32m      2\u001b[0m \u001b[0;34m\u001b[0m\u001b[0m\n\u001b[1;32m      3\u001b[0m \u001b[0mN\u001b[0m \u001b[0;34m=\u001b[0m \u001b[0;36m3\u001b[0m\u001b[0;34m\u001b[0m\u001b[0m\n\u001b[1;32m      4\u001b[0m \u001b[0;34m\u001b[0m\u001b[0m\n\u001b[1;32m      5\u001b[0m \u001b[0mU\u001b[0m \u001b[0;34m=\u001b[0m \u001b[0msy\u001b[0m\u001b[0;34m.\u001b[0m\u001b[0mSymbol\u001b[0m\u001b[0;34m(\u001b[0m\u001b[0;34m'U'\u001b[0m\u001b[0;34m)\u001b[0m\u001b[0;34m\u001b[0m\u001b[0m\n",
      "\u001b[0;31mModuleNotFoundError\u001b[0m: No module named 'sympy'"
     ]
    }
   ],
   "source": [
    "import sympy as sy\n",
    "\n",
    "N = 3\n",
    "\n",
    "U = sy.Symbol('U')\n",
    "h = sy.Symbol('h')\n",
    "sxs = [sy.Symbol('sx_' + str(x)) for x in range(N)]\n",
    "szs = [sy.Symbol('sz_' + str(x)) for x in range(N)]\n",
    "Is = [sy.Symbol('I_' + str(x)) for x in range(N)]\n",
    "\n",
    "L = sy.Matrix([[1, 0, 0, 0]])\n",
    "R = sy.Matrix([[0], [0], [0], [1]])\n",
    "\n",
    "mats = [sy.Matrix([[Is[x], sxs[x], szs[x], szs[x] * h/2 + U + 1], [0, 0, 0, sxs[x]], [0, 0, 0, U*szs[x]], [0, 0, 0, Is[x]]]) for x in range(N)]\n",
    "\n",
    "A = mats[0]\n",
    "for i in range(1,len(mats)):\n",
    "    A = A * mats[i]\n",
    "    \n",
    "L*A*R"
   ]
  },
  {
   "cell_type": "code",
   "execution_count": 2,
   "metadata": {},
   "outputs": [
    {
     "ename": "NameError",
     "evalue": "name 'L' is not defined",
     "output_type": "error",
     "traceback": [
      "\u001b[0;31m---------------------------------------------------------------------------\u001b[0m",
      "\u001b[0;31mNameError\u001b[0m                                 Traceback (most recent call last)",
      "\u001b[0;32m<ipython-input-2-946983462653>\u001b[0m in \u001b[0;36m<module>\u001b[0;34m()\u001b[0m\n\u001b[1;32m      1\u001b[0m \u001b[0;32mimport\u001b[0m \u001b[0mnumpy\u001b[0m \u001b[0;32mas\u001b[0m \u001b[0mnp\u001b[0m\u001b[0;34m\u001b[0m\u001b[0m\n\u001b[0;32m----> 2\u001b[0;31m \u001b[0mprint\u001b[0m\u001b[0;34m(\u001b[0m\u001b[0mL\u001b[0m\u001b[0;34m.\u001b[0m\u001b[0mshape\u001b[0m\u001b[0;34m)\u001b[0m\u001b[0;34m\u001b[0m\u001b[0m\n\u001b[0m\u001b[1;32m      3\u001b[0m \u001b[0mprint\u001b[0m\u001b[0;34m(\u001b[0m\u001b[0mmats\u001b[0m\u001b[0;34m[\u001b[0m\u001b[0;36m0\u001b[0m\u001b[0;34m]\u001b[0m\u001b[0;34m.\u001b[0m\u001b[0mshape\u001b[0m\u001b[0;34m)\u001b[0m\u001b[0;34m\u001b[0m\u001b[0m\n\u001b[1;32m      4\u001b[0m \u001b[0mprint\u001b[0m\u001b[0;34m(\u001b[0m\u001b[0mR\u001b[0m\u001b[0;34m.\u001b[0m\u001b[0mshape\u001b[0m\u001b[0;34m)\u001b[0m\u001b[0;34m\u001b[0m\u001b[0m\n\u001b[1;32m      5\u001b[0m \u001b[0mR\u001b[0m\u001b[0;34m.\u001b[0m\u001b[0mdot\u001b[0m\u001b[0;34m(\u001b[0m\u001b[0mmats\u001b[0m\u001b[0;34m[\u001b[0m\u001b[0;36m0\u001b[0m\u001b[0;34m]\u001b[0m\u001b[0;34m)\u001b[0m\u001b[0;34m\u001b[0m\u001b[0m\n",
      "\u001b[0;31mNameError\u001b[0m: name 'L' is not defined"
     ]
    }
   ],
   "source": [
    "import numpy as np\n",
    "print(L.shape)\n",
    "print(mats[0].shape)\n",
    "print(R.shape)\n",
    "R.dot(mats[0])"
   ]
  },
  {
   "cell_type": "markdown",
   "metadata": {},
   "source": [
    "## Create new class to implement model"
   ]
  },
  {
   "cell_type": "code",
   "execution_count": 25,
   "metadata": {},
   "outputs": [
    {
     "ename": "RuntimeError",
     "evalue": "Python is not installed as a framework. The Mac OS X backend will not be able to function correctly if Python is not installed as a framework. See the Python documentation for more information on installing Python as a framework on Mac OS X. Please either reinstall Python as a framework, or try one of the other backends. If you are using (Ana)Conda please install python.app and replace the use of 'python' with 'pythonw'. See 'Working with Matplotlib on OSX' in the Matplotlib FAQ for more information.",
     "output_type": "error",
     "traceback": [
      "\u001b[0;31m---------------------------------------------------------------------------\u001b[0m",
      "\u001b[0;31mRuntimeError\u001b[0m                              Traceback (most recent call last)",
      "\u001b[0;32m<ipython-input-25-79c69e451d52>\u001b[0m in \u001b[0;36m<module>\u001b[0;34m()\u001b[0m\n\u001b[1;32m      2\u001b[0m \u001b[0;32mimport\u001b[0m \u001b[0mnumpy\u001b[0m \u001b[0;32mas\u001b[0m \u001b[0mnp\u001b[0m\u001b[0;34m\u001b[0m\u001b[0m\n\u001b[1;32m      3\u001b[0m \u001b[0;32mimport\u001b[0m \u001b[0mmatplotlib\u001b[0m\u001b[0;34m.\u001b[0m\u001b[0mpyplot\u001b[0m \u001b[0;32mas\u001b[0m \u001b[0mplt\u001b[0m\u001b[0;34m\u001b[0m\u001b[0m\n\u001b[0;32m----> 4\u001b[0;31m \u001b[0mget_ipython\u001b[0m\u001b[0;34m(\u001b[0m\u001b[0;34m)\u001b[0m\u001b[0;34m.\u001b[0m\u001b[0mrun_line_magic\u001b[0m\u001b[0;34m(\u001b[0m\u001b[0;34m'matplotlib'\u001b[0m\u001b[0;34m,\u001b[0m \u001b[0;34m''\u001b[0m\u001b[0;34m)\u001b[0m\u001b[0;34m\u001b[0m\u001b[0m\n\u001b[0m\u001b[1;32m      5\u001b[0m \u001b[0;34m\u001b[0m\u001b[0m\n\u001b[1;32m      6\u001b[0m \u001b[0;32mfrom\u001b[0m \u001b[0mparafermions\u001b[0m\u001b[0;34m.\u001b[0m\u001b[0mMPO\u001b[0m \u001b[0;32mimport\u001b[0m \u001b[0mMPO\u001b[0m\u001b[0;34m\u001b[0m\u001b[0m\n",
      "\u001b[0;32m~/envs/pf/lib/python3.6/site-packages/IPython/core/interactiveshell.py\u001b[0m in \u001b[0;36mrun_line_magic\u001b[0;34m(self, magic_name, line, _stack_depth)\u001b[0m\n\u001b[1;32m   2129\u001b[0m                 \u001b[0mkwargs\u001b[0m\u001b[0;34m[\u001b[0m\u001b[0;34m'local_ns'\u001b[0m\u001b[0;34m]\u001b[0m \u001b[0;34m=\u001b[0m \u001b[0msys\u001b[0m\u001b[0;34m.\u001b[0m\u001b[0m_getframe\u001b[0m\u001b[0;34m(\u001b[0m\u001b[0mstack_depth\u001b[0m\u001b[0;34m)\u001b[0m\u001b[0;34m.\u001b[0m\u001b[0mf_locals\u001b[0m\u001b[0;34m\u001b[0m\u001b[0m\n\u001b[1;32m   2130\u001b[0m             \u001b[0;32mwith\u001b[0m \u001b[0mself\u001b[0m\u001b[0;34m.\u001b[0m\u001b[0mbuiltin_trap\u001b[0m\u001b[0;34m:\u001b[0m\u001b[0;34m\u001b[0m\u001b[0m\n\u001b[0;32m-> 2131\u001b[0;31m                 \u001b[0mresult\u001b[0m \u001b[0;34m=\u001b[0m \u001b[0mfn\u001b[0m\u001b[0;34m(\u001b[0m\u001b[0;34m*\u001b[0m\u001b[0margs\u001b[0m\u001b[0;34m,\u001b[0m\u001b[0;34m**\u001b[0m\u001b[0mkwargs\u001b[0m\u001b[0;34m)\u001b[0m\u001b[0;34m\u001b[0m\u001b[0m\n\u001b[0m\u001b[1;32m   2132\u001b[0m             \u001b[0;32mreturn\u001b[0m \u001b[0mresult\u001b[0m\u001b[0;34m\u001b[0m\u001b[0m\n\u001b[1;32m   2133\u001b[0m \u001b[0;34m\u001b[0m\u001b[0m\n",
      "\u001b[0;32m<decorator-gen-107>\u001b[0m in \u001b[0;36mmatplotlib\u001b[0;34m(self, line)\u001b[0m\n",
      "\u001b[0;32m~/envs/pf/lib/python3.6/site-packages/IPython/core/magic.py\u001b[0m in \u001b[0;36m<lambda>\u001b[0;34m(f, *a, **k)\u001b[0m\n\u001b[1;32m    185\u001b[0m     \u001b[0;31m# but it's overkill for just that one bit of state.\u001b[0m\u001b[0;34m\u001b[0m\u001b[0;34m\u001b[0m\u001b[0m\n\u001b[1;32m    186\u001b[0m     \u001b[0;32mdef\u001b[0m \u001b[0mmagic_deco\u001b[0m\u001b[0;34m(\u001b[0m\u001b[0marg\u001b[0m\u001b[0;34m)\u001b[0m\u001b[0;34m:\u001b[0m\u001b[0;34m\u001b[0m\u001b[0m\n\u001b[0;32m--> 187\u001b[0;31m         \u001b[0mcall\u001b[0m \u001b[0;34m=\u001b[0m \u001b[0;32mlambda\u001b[0m \u001b[0mf\u001b[0m\u001b[0;34m,\u001b[0m \u001b[0;34m*\u001b[0m\u001b[0ma\u001b[0m\u001b[0;34m,\u001b[0m \u001b[0;34m**\u001b[0m\u001b[0mk\u001b[0m\u001b[0;34m:\u001b[0m \u001b[0mf\u001b[0m\u001b[0;34m(\u001b[0m\u001b[0;34m*\u001b[0m\u001b[0ma\u001b[0m\u001b[0;34m,\u001b[0m \u001b[0;34m**\u001b[0m\u001b[0mk\u001b[0m\u001b[0;34m)\u001b[0m\u001b[0;34m\u001b[0m\u001b[0m\n\u001b[0m\u001b[1;32m    188\u001b[0m \u001b[0;34m\u001b[0m\u001b[0m\n\u001b[1;32m    189\u001b[0m         \u001b[0;32mif\u001b[0m \u001b[0mcallable\u001b[0m\u001b[0;34m(\u001b[0m\u001b[0marg\u001b[0m\u001b[0;34m)\u001b[0m\u001b[0;34m:\u001b[0m\u001b[0;34m\u001b[0m\u001b[0m\n",
      "\u001b[0;32m~/envs/pf/lib/python3.6/site-packages/IPython/core/magics/pylab.py\u001b[0m in \u001b[0;36mmatplotlib\u001b[0;34m(self, line)\u001b[0m\n\u001b[1;32m     97\u001b[0m             \u001b[0mprint\u001b[0m\u001b[0;34m(\u001b[0m\u001b[0;34m\"Available matplotlib backends: %s\"\u001b[0m \u001b[0;34m%\u001b[0m \u001b[0mbackends_list\u001b[0m\u001b[0;34m)\u001b[0m\u001b[0;34m\u001b[0m\u001b[0m\n\u001b[1;32m     98\u001b[0m         \u001b[0;32melse\u001b[0m\u001b[0;34m:\u001b[0m\u001b[0;34m\u001b[0m\u001b[0m\n\u001b[0;32m---> 99\u001b[0;31m             \u001b[0mgui\u001b[0m\u001b[0;34m,\u001b[0m \u001b[0mbackend\u001b[0m \u001b[0;34m=\u001b[0m \u001b[0mself\u001b[0m\u001b[0;34m.\u001b[0m\u001b[0mshell\u001b[0m\u001b[0;34m.\u001b[0m\u001b[0menable_matplotlib\u001b[0m\u001b[0;34m(\u001b[0m\u001b[0margs\u001b[0m\u001b[0;34m.\u001b[0m\u001b[0mgui\u001b[0m\u001b[0;34m)\u001b[0m\u001b[0;34m\u001b[0m\u001b[0m\n\u001b[0m\u001b[1;32m    100\u001b[0m             \u001b[0mself\u001b[0m\u001b[0;34m.\u001b[0m\u001b[0m_show_matplotlib_backend\u001b[0m\u001b[0;34m(\u001b[0m\u001b[0margs\u001b[0m\u001b[0;34m.\u001b[0m\u001b[0mgui\u001b[0m\u001b[0;34m,\u001b[0m \u001b[0mbackend\u001b[0m\u001b[0;34m)\u001b[0m\u001b[0;34m\u001b[0m\u001b[0m\n\u001b[1;32m    101\u001b[0m \u001b[0;34m\u001b[0m\u001b[0m\n",
      "\u001b[0;32m~/envs/pf/lib/python3.6/site-packages/IPython/core/interactiveshell.py\u001b[0m in \u001b[0;36menable_matplotlib\u001b[0;34m(self, gui)\u001b[0m\n\u001b[1;32m   3049\u001b[0m                 \u001b[0mgui\u001b[0m\u001b[0;34m,\u001b[0m \u001b[0mbackend\u001b[0m \u001b[0;34m=\u001b[0m \u001b[0mpt\u001b[0m\u001b[0;34m.\u001b[0m\u001b[0mfind_gui_and_backend\u001b[0m\u001b[0;34m(\u001b[0m\u001b[0mself\u001b[0m\u001b[0;34m.\u001b[0m\u001b[0mpylab_gui_select\u001b[0m\u001b[0;34m)\u001b[0m\u001b[0;34m\u001b[0m\u001b[0m\n\u001b[1;32m   3050\u001b[0m \u001b[0;34m\u001b[0m\u001b[0m\n\u001b[0;32m-> 3051\u001b[0;31m         \u001b[0mpt\u001b[0m\u001b[0;34m.\u001b[0m\u001b[0mactivate_matplotlib\u001b[0m\u001b[0;34m(\u001b[0m\u001b[0mbackend\u001b[0m\u001b[0;34m)\u001b[0m\u001b[0;34m\u001b[0m\u001b[0m\n\u001b[0m\u001b[1;32m   3052\u001b[0m         \u001b[0mpt\u001b[0m\u001b[0;34m.\u001b[0m\u001b[0mconfigure_inline_support\u001b[0m\u001b[0;34m(\u001b[0m\u001b[0mself\u001b[0m\u001b[0;34m,\u001b[0m \u001b[0mbackend\u001b[0m\u001b[0;34m)\u001b[0m\u001b[0;34m\u001b[0m\u001b[0m\n\u001b[1;32m   3053\u001b[0m \u001b[0;34m\u001b[0m\u001b[0m\n",
      "\u001b[0;32m~/envs/pf/lib/python3.6/site-packages/IPython/core/pylabtools.py\u001b[0m in \u001b[0;36mactivate_matplotlib\u001b[0;34m(backend)\u001b[0m\n\u001b[1;32m    309\u001b[0m \u001b[0;34m\u001b[0m\u001b[0m\n\u001b[1;32m    310\u001b[0m     \u001b[0;32mimport\u001b[0m \u001b[0mmatplotlib\u001b[0m\u001b[0;34m.\u001b[0m\u001b[0mpyplot\u001b[0m\u001b[0;34m\u001b[0m\u001b[0m\n\u001b[0;32m--> 311\u001b[0;31m     \u001b[0mmatplotlib\u001b[0m\u001b[0;34m.\u001b[0m\u001b[0mpyplot\u001b[0m\u001b[0;34m.\u001b[0m\u001b[0mswitch_backend\u001b[0m\u001b[0;34m(\u001b[0m\u001b[0mbackend\u001b[0m\u001b[0;34m)\u001b[0m\u001b[0;34m\u001b[0m\u001b[0m\n\u001b[0m\u001b[1;32m    312\u001b[0m \u001b[0;34m\u001b[0m\u001b[0m\n\u001b[1;32m    313\u001b[0m     \u001b[0;31m# This must be imported last in the matplotlib series, after\u001b[0m\u001b[0;34m\u001b[0m\u001b[0;34m\u001b[0m\u001b[0m\n",
      "\u001b[0;32m~/envs/pf/lib/python3.6/site-packages/matplotlib/pyplot.py\u001b[0m in \u001b[0;36mswitch_backend\u001b[0;34m(newbackend)\u001b[0m\n\u001b[1;32m    231\u001b[0m     \u001b[0mmatplotlib\u001b[0m\u001b[0;34m.\u001b[0m\u001b[0muse\u001b[0m\u001b[0;34m(\u001b[0m\u001b[0mnewbackend\u001b[0m\u001b[0;34m,\u001b[0m \u001b[0mwarn\u001b[0m\u001b[0;34m=\u001b[0m\u001b[0;32mFalse\u001b[0m\u001b[0;34m,\u001b[0m \u001b[0mforce\u001b[0m\u001b[0;34m=\u001b[0m\u001b[0;32mTrue\u001b[0m\u001b[0;34m)\u001b[0m\u001b[0;34m\u001b[0m\u001b[0m\n\u001b[1;32m    232\u001b[0m     \u001b[0;32mfrom\u001b[0m \u001b[0mmatplotlib\u001b[0m\u001b[0;34m.\u001b[0m\u001b[0mbackends\u001b[0m \u001b[0;32mimport\u001b[0m \u001b[0mpylab_setup\u001b[0m\u001b[0;34m\u001b[0m\u001b[0m\n\u001b[0;32m--> 233\u001b[0;31m     \u001b[0m_backend_mod\u001b[0m\u001b[0;34m,\u001b[0m \u001b[0mnew_figure_manager\u001b[0m\u001b[0;34m,\u001b[0m \u001b[0mdraw_if_interactive\u001b[0m\u001b[0;34m,\u001b[0m \u001b[0m_show\u001b[0m \u001b[0;34m=\u001b[0m \u001b[0mpylab_setup\u001b[0m\u001b[0;34m(\u001b[0m\u001b[0;34m)\u001b[0m\u001b[0;34m\u001b[0m\u001b[0m\n\u001b[0m\u001b[1;32m    234\u001b[0m \u001b[0;34m\u001b[0m\u001b[0m\n\u001b[1;32m    235\u001b[0m \u001b[0;34m\u001b[0m\u001b[0m\n",
      "\u001b[0;32m~/envs/pf/lib/python3.6/site-packages/matplotlib/backends/__init__.py\u001b[0m in \u001b[0;36mpylab_setup\u001b[0;34m(name)\u001b[0m\n\u001b[1;32m     60\u001b[0m     \u001b[0;31m# imports. 0 means only perform absolute imports.\u001b[0m\u001b[0;34m\u001b[0m\u001b[0;34m\u001b[0m\u001b[0m\n\u001b[1;32m     61\u001b[0m     backend_mod = __import__(backend_name, globals(), locals(),\n\u001b[0;32m---> 62\u001b[0;31m                              [backend_name], 0)\n\u001b[0m\u001b[1;32m     63\u001b[0m \u001b[0;34m\u001b[0m\u001b[0m\n\u001b[1;32m     64\u001b[0m     \u001b[0;31m# Things we pull in from all backends\u001b[0m\u001b[0;34m\u001b[0m\u001b[0;34m\u001b[0m\u001b[0m\n",
      "\u001b[0;32m~/envs/pf/lib/python3.6/site-packages/matplotlib/backends/backend_macosx.py\u001b[0m in \u001b[0;36m<module>\u001b[0;34m()\u001b[0m\n\u001b[1;32m     15\u001b[0m \u001b[0;34m\u001b[0m\u001b[0m\n\u001b[1;32m     16\u001b[0m \u001b[0;32mimport\u001b[0m \u001b[0mmatplotlib\u001b[0m\u001b[0;34m\u001b[0m\u001b[0m\n\u001b[0;32m---> 17\u001b[0;31m \u001b[0;32mfrom\u001b[0m \u001b[0mmatplotlib\u001b[0m\u001b[0;34m.\u001b[0m\u001b[0mbackends\u001b[0m \u001b[0;32mimport\u001b[0m \u001b[0m_macosx\u001b[0m\u001b[0;34m\u001b[0m\u001b[0m\n\u001b[0m\u001b[1;32m     18\u001b[0m \u001b[0;34m\u001b[0m\u001b[0m\n\u001b[1;32m     19\u001b[0m \u001b[0;32mfrom\u001b[0m \u001b[0;34m.\u001b[0m\u001b[0mbackend_agg\u001b[0m \u001b[0;32mimport\u001b[0m \u001b[0mFigureCanvasAgg\u001b[0m\u001b[0;34m\u001b[0m\u001b[0m\n",
      "\u001b[0;31mRuntimeError\u001b[0m: Python is not installed as a framework. The Mac OS X backend will not be able to function correctly if Python is not installed as a framework. See the Python documentation for more information on installing Python as a framework on Mac OS X. Please either reinstall Python as a framework, or try one of the other backends. If you are using (Ana)Conda please install python.app and replace the use of 'python' with 'pythonw'. See 'Working with Matplotlib on OSX' in the Matplotlib FAQ for more information."
     ]
    }
   ],
   "source": [
    "import time\n",
    "import numpy as np\n",
    "import matplotlib.pyplot as plt\n",
    "%matplotlib\n",
    "\n",
    "from parafermions.MPO import MPO\n",
    "import parafermions.ParafermionUtilsCython as pfcy"
   ]
  },
  {
   "cell_type": "code",
   "execution_count": 26,
   "metadata": {},
   "outputs": [],
   "source": [
    "class PeschelEmerySpinHalf(MPO):\n",
    "    \"\"\"\n",
    "    Class which contains method for treating Peschel Emery line of parameters\n",
    "    \"\"\"\n",
    "\n",
    "    def __init__(self, L, l, dtype=np.dtype('complex128')):\n",
    "        \"\"\"\n",
    "        Constructor of spin half Peschel Emergy chain operator class with the given parameters.\n",
    "\n",
    "        Parameters\n",
    "        -----------        \n",
    "        L: int\n",
    "            Length of chain.\n",
    "        l: float\n",
    "            The sinlge parameter of the Peschel Emery spin half line\n",
    "        dtype: dtype\n",
    "            Datatype to use internally, default=np.dtype('complex128').\n",
    "        \"\"\"\n",
    "        self.L = L   # otherwise full hamiltonian        \n",
    "        self.l = l\n",
    "        self.N = 2\n",
    "        \n",
    "        # setting dimension and datatype\n",
    "        self.dim = self.N**self.L\n",
    "        self.dtype = dtype\n",
    "        self.chi = 4\n",
    "        \n",
    "        self.sigmax = np.zeros((2, 2), dtype=self.dtype)\n",
    "        self.sigmax[0, 1] = 1; self.sigmax[1, 0] = 1\n",
    "        \n",
    "        self.sigmaz = np.zeros((2, 2), dtype=self.dtype)\n",
    "        self.sigmaz[0, 0] = 1; self.sigmaz[1, 1] = -1\n",
    "        \n",
    "        self.I = np.eye(2, dtype=self.dtype)\n",
    "        self.Ul = (np.cosh(self.l) - 1)/2.0\n",
    "        self.hl = np.sinh(l)\n",
    "        \n",
    "        c_i = lambda x: 2 if x > 0 and x < self.L-1 else 1 \n",
    "\n",
    "        Ws = dict() # create a dictionary to store tensors\n",
    "        for i in range(self.L):\n",
    "            W = np.zeros((self.chi,self.chi,self.N,self.N), dtype=self.dtype)                        \n",
    "            W[0,0:4] = [self.I, self.sigmax, self.sigmaz, c_i(i)/2*(self.hl*self.sigmaz + self.I *(self.Ul + 1))]\n",
    "            W[1,-1] = -self.sigmax\n",
    "            W[2,-1] = self.Ul * self.sigmaz\n",
    "            W[-1,-1] = self.I\n",
    "            Ws[i] = W\n",
    "        \n",
    "        self.shape = (self.N**self.L, self.N**self.L) # for mat vec routine\n",
    "        self.Lp = np.zeros(self.chi, dtype=dtype); self.Lp[0] = 1.0\n",
    "        self.Rp = np.zeros(self.chi, dtype=dtype); self.Rp[-1] = 1.0\n",
    "        self.Ws = Ws"
   ]
  },
  {
   "cell_type": "code",
   "execution_count": 27,
   "metadata": {},
   "outputs": [],
   "source": [
    "class ParitySpinHalf(MPO):\n",
    "    \"\"\"\n",
    "    Parity operator for spin half chains\n",
    "    \"\"\"\n",
    "\n",
    "    def __init__(self, L, dtype=np.dtype('complex128')):\n",
    "        \"\"\"\n",
    "        Parity operator for spin half chains\n",
    "\n",
    "        Parameters\n",
    "        -----------        \n",
    "        L: int\n",
    "            Length of chain.        \n",
    "        dtype: dtype\n",
    "            Datatype to use internally, default=np.dtype('complex128').\n",
    "        \"\"\"\n",
    "        self.L = L   # otherwise full hamiltonian        \n",
    "        self.N = 2\n",
    "        \n",
    "        # setting dimension and datatype\n",
    "        self.dim = self.N**self.L\n",
    "        self.dtype = dtype\n",
    "        self.chi = 1\n",
    "        \n",
    "        self.sigmaz = np.zeros((2, 2), dtype=self.dtype)\n",
    "        self.sigmaz[0, 0] = 1; self.sigmaz[1, 1] = -1\n",
    "        \n",
    "        self.I = np.eye(2, dtype=self.dtype)\n",
    "                \n",
    "        Ws = dict() # create a dictionary to store tensors\n",
    "        for i in range(self.L):\n",
    "            W = np.zeros((self.chi,self.chi,self.N,self.N), dtype=self.dtype)                        \n",
    "            W[0,0] = self.sigmaz            \n",
    "            Ws[i] = W\n",
    "        \n",
    "        self.shape = (self.N**self.L, self.N**self.L) # for mat vec routine\n",
    "        self.Lp = np.zeros(self.chi, dtype=dtype); self.Lp[0] = 1.0\n",
    "        self.Rp = np.zeros(self.chi, dtype=dtype); self.Rp[-1] = 1.0\n",
    "        self.Ws = Ws"
   ]
  },
  {
   "cell_type": "code",
   "execution_count": 38,
   "metadata": {},
   "outputs": [
    {
     "name": "stdout",
     "output_type": "stream",
     "text": [
      "[1.51596330e-15 2.44136976e-15 1.64063042e+00 1.64063042e+00\n",
      " 1.69724695e+00 1.69724695e+00 1.78542950e+00 1.78542950e+00\n",
      " 1.89654719e+00 1.89654719e+00]\n",
      "Energy expectations: [-7.473396209299503e-16, -7.65283392685311e-16]\n",
      "Parity expectations: [-0.9999782657177949, 0.9999782657177898]\n"
     ]
    },
    {
     "data": {
      "image/png": "[encoded data removed]",
      "text/plain": [
       "<Figure size 432x288 with 1 Axes>"
      ]
     },
     "metadata": {},
     "output_type": "display_data"
    },
    {
     "data": {
      "image/png": "[encoded data removed]",
      "text/plain": [
       "<Figure size 1080x360 with 1 Axes>"
      ]
     },
     "metadata": {},
     "output_type": "display_data"
    }
   ],
   "source": [
    "import parafermions as pf\n",
    "import numpy as np\n",
    "\n",
    "N = 10\n",
    "l = 0.2\n",
    "pe = PeschelEmerySpinHalf(N, l, dtype=np.dtype('float64'))\n",
    "d, v = pe.Diagonalise(k=100)\n",
    "print(d[:10])\n",
    "P = ParitySpinHalf(N, dtype=np.dtype('float64'))\n",
    "\n",
    "w = pf.diagonalise(v[:,:2], P)\n",
    "w.shape\n",
    "\n",
    "print('Energy expectations: ' + str([pe.expectation(w[:, x]) for x in range(w.shape[1])]))\n",
    "print('Parity expectations: ' + str([P.expectation(w[:, x]) for x in range(w.shape[1])]))\n",
    "\n",
    "plt.plot(w)\n",
    "\n",
    "def str_conf(idx, N):\n",
    "    x = np.base_repr(idx)    \n",
    "    return '0'*(N-len(x)) + x\n",
    "\n",
    "def up_count(idx):\n",
    "    return len([x for x in np.base_repr(idx) if x == '1'])\n",
    "\n",
    "import seaborn as sns\n",
    "colors = sns.color_palette(n_colors=N+1)\n",
    "\n",
    "\n",
    "plt.figure(figsize=(15,5))\n",
    "i = 0\n",
    "sorted_tuples = sorted([[up_count(x), w[x, i]] for x in range(w.shape[0])], key=lambda x: x[0])\n",
    "for j, t in enumerate(sorted_tuples):\n",
    "    plt.plot(j, t[1], '^', color=colors[t[0]], fillstyle='none')\n",
    "    \n",
    "i = 1\n",
    "sorted_tuples = sorted([[up_count(x), w[x, i]] for x in range(w.shape[0])], key=lambda x: x[0])\n",
    "for j, t in enumerate(sorted_tuples):\n",
    "    plt.plot(j, t[1], 'o', color=colors[t[0]], fillstyle='none')"
   ]
  },
  {
   "cell_type": "code",
   "execution_count": 29,
   "metadata": {},
   "outputs": [
    {
     "data": {
      "text/plain": [
       "0.951229424500714"
      ]
     },
     "execution_count": 29,
     "metadata": {},
     "output_type": "execute_result"
    }
   ],
   "source": [
    "np.exp(-0.05)"
   ]
  },
  {
   "cell_type": "markdown",
   "metadata": {},
   "source": [
    "# Attempt the three state potts typed model"
   ]
  },
  {
   "cell_type": "code",
   "execution_count": 33,
   "metadata": {},
   "outputs": [],
   "source": [
    "class PeschelEmery3StateClock(MPO):\n",
    "    \"\"\"\n",
    "    Class which contains method for treating Peschel Emery line of parameters\n",
    "    \"\"\"\n",
    "\n",
    "    def __init__(self, L, r, dtype=np.dtype('complex128')):\n",
    "        \"\"\"\n",
    "        Constructor of spin half Peschel Emergy chain operator class with the given parameters.\n",
    "\n",
    "        Parameters\n",
    "        -----------        \n",
    "        L: int\n",
    "            Length of chain.\n",
    "        r: float\n",
    "            The sinlge parameter of the Peschel Emery spin half line\n",
    "        dtype: dtype\n",
    "            Datatype to use internally, default=np.dtype('complex128').\n",
    "        \"\"\"\n",
    "        self.L = L   # otherwise full hamiltonian        \n",
    "        self.r = r\n",
    "        self.N = 3\n",
    "        \n",
    "        # setting dimension and datatype\n",
    "        self.dim = self.N**self.L\n",
    "        self.dtype = dtype\n",
    "        self.chi = 8\n",
    "        self.omega = np.exp(2j*np.pi/3)\n",
    "        \n",
    "        self.sigmax = np.zeros((3, 3), dtype=self.dtype)\n",
    "        self.sigmax[0, 1] = 1; self.sigmax[1, 2] = 1; self.sigmax[2, 0] = 1\n",
    "        \n",
    "        self.sigmaz = np.diag([self.omega**x for x in range(3)])\n",
    "        \n",
    "        self.I = np.eye(3, dtype=self.dtype)\n",
    "        self.fr = (1+2*r)*(1-r**3)/(9*r**2)\n",
    "        self.g1r = -2*(1-r)**2*(1+r+r**2)/(9*r**2)\n",
    "        self.g2r = (1-r)**2*(1-2*r-2*r**2)/(9*r**2)\n",
    "        self.er = 2*(1+r+r**2)**2/(9*r**2)\n",
    "        \n",
    "        c = lambda x: 2 if x > 0 and x < self.L-1 else 1 \n",
    "\n",
    "        Ws = dict() # create a dictionary to store tensors\n",
    "        for i in range(self.L):\n",
    "    \n",
    "            W = np.zeros((self.chi,self.chi,self.N,self.N), dtype=self.dtype)                        \n",
    "            W[0,0:3] = [self.I, self.sigmax.conj().T, self.sigmax]\n",
    "            W[0,3:5] = [self.sigmaz, self.sigmaz.conj().T]\n",
    "            W[0,5:7] = [self.sigmaz, self.sigmaz.conj().T]\n",
    "            W[0,7] = c(i)*(-self.fr*(self.sigmaz + self.sigmaz.conj().T) + self.er*self.I/2)\n",
    "            W[1,-1] = -self.sigmax; W[2,-1] = -self.sigmax.conj().T\n",
    "            W[3, -1] = -self.g1r*self.sigmaz\n",
    "            W[4, -1] = -self.g1r*self.sigmaz.conj().T\n",
    "            W[5, -1] = -self.g2r*self.sigmaz.conj().T\n",
    "            W[6, -1] = -self.g2r*self.sigmaz            \n",
    "            W[-1,-1] = self.I\n",
    "            Ws[i] = W\n",
    "        \n",
    "        self.shape = (self.N**self.L, self.N**self.L) # for mat vec routine\n",
    "        self.Lp = np.zeros(self.chi, dtype=dtype); self.Lp[0] = 1.0\n",
    "        self.Rp = np.zeros(self.chi, dtype=dtype); self.Rp[-1] = 1.0\n",
    "        self.Ws = Ws"
   ]
  },
  {
   "cell_type": "code",
   "execution_count": 34,
   "metadata": {},
   "outputs": [
    {
     "data": {
      "text/plain": [
       "[9.74380295219632e-16,\n",
       " 7.963106170112706e-16,\n",
       " 7.719343683239686e-16,\n",
       " 2.9999999999999964,\n",
       " 2.999999999999999,\n",
       " 3.0000000000000075,\n",
       " 3.000000000000011,\n",
       " 3.000000000000013,\n",
       " 3.0000000000000213,\n",
       " 3.0000000000000218,\n",
       " 3.00000000000003,\n",
       " 3.0000000000000373,\n",
       " 3.0000000000000404,\n",
       " 3.000000000000041,\n",
       " 5.999999999999996,\n",
       " 6.000000000000022,\n",
       " 6.000000000000041,\n",
       " 6.000000000000049,\n",
       " 6.000000000000051,\n",
       " 6.000000000000057]"
      ]
     },
     "execution_count": 34,
     "metadata": {},
     "output_type": "execute_result"
    }
   ],
   "source": [
    "pe3 = PeschelEmery3StateClock(8, 1)\n",
    "p, v = pe3.Diagonalise(k=20)\n",
    "[np.abs(x) for x in p]"
   ]
  },
  {
   "cell_type": "code",
   "execution_count": 12,
   "metadata": {},
   "outputs": [],
   "source": [
    "P = pf.QOp(3, 8)\n",
    "w = pf.diagonalise(v[:, :3], P)"
   ]
  },
  {
   "cell_type": "code",
   "execution_count": 13,
   "metadata": {},
   "outputs": [
    {
     "data": {
      "text/plain": [
       "[(1.000000000000061+5.88418203051333e-15j),\n",
       " (-0.5000000000000218+0.8660254037844674j),\n",
       " (-0.5000000000000073-0.8660254037844577j)]"
      ]
     },
     "execution_count": 13,
     "metadata": {},
     "output_type": "execute_result"
    }
   ],
   "source": [
    "[P.expectation(w[:, i].conj()) for i in range(w.shape[1])]"
   ]
  },
  {
   "cell_type": "code",
   "execution_count": 14,
   "metadata": {},
   "outputs": [
    {
     "data": {
      "text/plain": [
       "[<matplotlib.lines.Line2D at 0x119c0abe0>,\n",
       " <matplotlib.lines.Line2D at 0x119c0add8>,\n",
       " <matplotlib.lines.Line2D at 0x119c0af28>]"
      ]
     },
     "execution_count": 14,
     "metadata": {},
     "output_type": "execute_result"
    },
    {
     "data": {
      "image/png": "[encoded data removed]",
      "text/plain": [
       "<Figure size 432x288 with 1 Axes>"
      ]
     },
     "metadata": {},
     "output_type": "display_data"
    }
   ],
   "source": [
    "plt.plot(np.abs(w))"
   ]
  },
  {
   "cell_type": "code",
   "execution_count": 328,
   "metadata": {},
   "outputs": [
    {
     "data": {
      "text/plain": [
       "(1.0000000000000044+0j)"
      ]
     },
     "execution_count": 328,
     "metadata": {},
     "output_type": "execute_result"
    }
   ],
   "source": [
    "np.dot(w[:,0].conj(), w[:,0])"
   ]
  },
  {
   "cell_type": "code",
   "execution_count": null,
   "metadata": {},
   "outputs": [],
   "source": []
  }
 ],
 "metadata": {
  "kernelspec": {
   "display_name": "Python 3",
   "language": "python",
   "name": "python3"
  },
  "language_info": {
   "codemirror_mode": {
    "name": "ipython",
    "version": 3
   },
   "file_extension": ".py",
   "mimetype": "text/x-python",
   "name": "python",
   "nbconvert_exporter": "python",
   "pygments_lexer": "ipython3",
   "version": "3.6.4"
  }
 },
 "nbformat": 4,
 "nbformat_minor": 2
}
